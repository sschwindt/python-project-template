{
 "cells": [
  {
   "cell_type": "markdown",
   "id": "3d6587ce",
   "metadata": {},
   "source": [
    "# Project Pipeline & Criteria Template\n",
    "\n",
    "This is the pipeline for the standard project to complete the course *Python Programming for Water Resources Engineering and Research*.\n",
    "\n",
    "You may propose your own project by adapting this template. An alternative topic is, for instance, the assessment of terrains to interpolate data on computational meshes for numerical models, where land use polygons may mark hardline breaks for mesh resolution."
   ]
  },
  {
   "cell_type": "markdown",
   "id": "19ebf57b",
   "metadata": {},
   "source": [
    "## Student names\n",
    "\n",
    "Student 1: First, Last\n",
    "\n",
    "Student 2: First, Last"
   ]
  },
  {
   "cell_type": "markdown",
   "id": "ca2ef438",
   "metadata": {},
   "source": [
    "\n",
    "## Goals\n",
    "\n",
    "Build a reproducible Python command-line tool that:\n",
    "\n",
    "1. Downloads a DEM from OpenTopography (or similar) for a user-supplied WGS84 bounding box no larger than 10 km by 10 km\n",
    "2. Retrieves a land-cover raster for the same extent\n",
    "3. Computes terrain roughness\n",
    "4. Extracts the thalweg as a polyline shapefile (e.g., via D8 routing)\n",
    "5. Samples a longitudinal profile along the thalweg and saves a CSV and PNG plot\n",
    "\n",
    "LLM usage is allowed but prompts must be documented. The output must compile and run on a clean machine without manual fixes.\n"
   ]
  },
  {
   "cell_type": "markdown",
   "id": "d0ff1698",
   "metadata": {},
   "source": [
    "\n",
    "## Learning outcomes\n",
    "\n",
    "1. Use GDAL from the command line and from Python bindings for real work\n",
    "2. Design an object-oriented geoprocessing pipeline\n",
    "3. Implement and validate raster neighborhood operations and flow routing on DEMs\n",
    "4. Manage geodata reprojections and CRSs\n",
    "4. Produce geospatial deliverables that pass automated checks\n"
   ]
  },
  {
   "cell_type": "markdown",
   "id": "6f8be3e6",
   "metadata": {},
   "source": [
    "\n",
    "## Hard requirements  \n",
    "\n",
    "\n",
    "These are the non‑negotiables that determine grading. Later sections only add details that do not restate these items.\n",
    "\n",
    "### A. Interface and inputs\n",
    "1. Provide a standalone-app entry point, for instance: `python terrain_assessment.py --bbox \"W,S,E,N\" --demtype \"NASADEM\" --api-key \"XXXX\" --outdir outputs` (or similar).\n",
    "2. Accept input as a WGS84 bbox in the order west, south, east, north. Reject invalid or inverted boxes with clear errors.\n",
    "\n",
    "*Note: The use of `--` is optional, unless you deploy the CLI workflow in the template (it requires `--`).*\n",
    "\n",
    "### B. Data sources and CRS\n",
    "1. DEM must come from a freely accessible platform, such as OpenTopography Global DEM API with parameterized `demtype` and API key.\n",
    "2. Land cover must be pulled in, at resolution at most 30 m, with tile selection logic explained within the code.\n",
    "\n",
    "### C. Mandatory GDAL usage\n",
    "1. Use at least three GDAL functionalites in meaningful steps, one of them must be reprojection, with proof of correct wraping as plots.\n",
    "2. Use GDAL Python bindings (`ogr`, `osr`) in at least one other distinct step.\n",
    "3. Handle nodata, and transform raster to vector (and/or vice versa).\n",
    "4. Apply CRS propagation and reprojection correctly.\n",
    "\n",
    "### D. Object‑oriented design\n",
    "1. No monolithic scripts. Implement the package layout `src/terrain_pipeline/` with modules `aoi.py`, `dem.py`, `landcover.py`, `roughness.py`, `profile.py`, etc (whatever you need).\n",
    "2. Provide a UML as image in the `/figures/` folder and link it in the README.md\n",
    "3. Implement the classes like `AOI`, `DEMFetcher`, `LandCoverFetcher`, `RoughnessCalculator`, `ProfileSampler` with docstrings; meaningful use requires instantiation of objects of these classes.\n",
    "4. Each class must include at least two methods plus at least one magic method where appropriate, and respect PEP 8.\n",
    "5. Use meaningful class inheritance.\n",
    "\n",
    "### E.  Required outputs\n",
    "1. `dem.tif` clipped to the AOI\n",
    "2. `landcover.tif` clipped to the AOI\n",
    "3. `roughness.tif` in the processing CRS\n",
    "4. `thalweg.*` (Shapefile or GeoPackage) with a single polyline and a length field in meters\n",
    "5. `thalweg_profile.csv` with `distance_m, lon, lat, elevation_m`\n",
    "6. `thalweg_profile.png` with labeled axes and correct units\n",
    "\n",
    "### F. Validation and testing\n",
    "1. A minimum use-case for a small AOI that finishes in under two minutes on one contemporary CPU and asserts existence and basic metadata of all outputs.\n",
    "2. Bonus: linting (e.g., with ruff or flake8), and logging at INFO and ERROR levels across the codebase. If performed, provide a logfile as `/results/linting.log´.\n",
    "\n",
    "### G. Documentation and reporting\n",
    "1. A README that includes purpose, usage, requirements, code diagram, and function or class usage with arguments and types.\n",
    "2. An LLM appendix listing exact prompts used, what was accepted as‑is, what was modified, and one thing the LLM got wrong (see distinct folder in the GitHub template)."
   ]
  },
  {
   "cell_type": "markdown",
   "id": "93359edc",
   "metadata": {},
   "source": [
    "\n",
    "## More details\n",
    "\n",
    "### Inputs and data sources\n",
    "\n",
    "1. OpenTopography Global DEM API with parameterized `demtype` and API key.\n",
    "2. Land cover source of your choice at resolution at most 30 m. Document source and tile logic.\n",
    "3. Make CRS explicit at each step; reproject before any metric analysis.\n"
   ]
  },
  {
   "cell_type": "markdown",
   "id": "2ab44504",
   "metadata": {},
   "source": [
    "\n",
    "### Outputs\n",
    "\n",
    "1. `dem.tif` and `landcover.tif` clipped to the AOI\n",
    "2. `roughness.tif` computed in the processing CRS\n",
    "3. `thalweg` vector layer with a length field in meters\n",
    "4. `thalweg_profile.csv` and `thalweg_profile.png`\n"
   ]
  },
  {
   "cell_type": "markdown",
   "id": "a62b210f",
   "metadata": {},
   "source": [
    "\n",
    "### LLM policy\n",
    "\n",
    "1. LLMs may be used. Include prompt logfile (see example in `/prompts/AI_DIARY_TEMPLATE.md`) showing accepted versus modified outputs.\n",
    "2. You may be asked to explain any part of your code upon request in a video call; if you cannot, you forfeit credit for that part.\n",
    "3. Do not submit code you do not understand."
   ]
  },
  {
   "cell_type": "markdown",
   "id": "98560070",
   "metadata": {},
   "source": [
    "\n",
    "## Deliverables\n",
    "\n",
    "Git repository containing:\n",
    "\n",
    "* `src/YOUR_PACKAGE`\n",
    "* `README.md`\n",
    "* `LICENSE`\n",
    "* pinned environment (`.yml`)\n",
    "* AI prompt logs (`/prompts/`)\n",
    "* any relevant data (`/data/`), such as `dem.tif`, `landcover.tif`, `roughness.tif`, `thalweg.*` or `.gpkg`, `thalweg_profile.csv` within the sample AOI\n",
    "* plots (`/figures/`), such as `thalweg_profile.png`\n",
    "* descriptions of results (`/results/`) in markdown format\n"
   ]
  },
  {
   "cell_type": "markdown",
   "id": "e3b7a9f6",
   "metadata": {},
   "source": [
    "\n",
    "## Hints and pitfalls\n",
    "\n",
    "1. Degrees are not meters; reproject before distance‑based work.\n",
    "2. Nodata propagation can poison focal stats if mishandled.\n",
    "3. DEMs often need pit filling before routing.\n",
    "4. Validate that the thalweg exits the AOI; otherwise your flow grid likely needs attention.\n",
    "5. Document land‑cover classes and any resampling choices.\n"
   ]
  }
 ],
 "metadata": {
  "kernelspec": {
   "display_name": "Python 3 (ipykernel)",
   "language": "python",
   "name": "python3"
  },
  "language_info": {
   "codemirror_mode": {
    "name": "ipython",
    "version": 3
   },
   "file_extension": ".py",
   "mimetype": "text/x-python",
   "name": "python",
   "nbconvert_exporter": "python",
   "pygments_lexer": "ipython3",
   "version": "3.12.3"
  }
 },
 "nbformat": 4,
 "nbformat_minor": 5
}

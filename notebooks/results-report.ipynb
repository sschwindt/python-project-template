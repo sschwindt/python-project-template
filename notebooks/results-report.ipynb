{
 "cells": [
  {
   "cell_type": "markdown",
   "id": "f958ca48",
   "metadata": {},
   "source": [
    "# Results, observations, and discussion\n",
    "\n",
    "Use this notebook to generate final figures and tables for the report."
   ]
  }
 ],
 "metadata": {
  "kernelspec": {
   "display_name": "Python 3 (ipykernel)",
   "language": "python",
   "name": "python3"
  },
  "language_info": {
   "codemirror_mode": {
    "name": "ipython",
    "version": 3
   },
   "file_extension": ".py",
   "mimetype": "text/x-python",
   "name": "python",
   "nbconvert_exporter": "python",
   "pygments_lexer": "ipython3",
   "version": "3.12.3"
  }
 },
 "nbformat": 4,
 "nbformat_minor": 5
}
